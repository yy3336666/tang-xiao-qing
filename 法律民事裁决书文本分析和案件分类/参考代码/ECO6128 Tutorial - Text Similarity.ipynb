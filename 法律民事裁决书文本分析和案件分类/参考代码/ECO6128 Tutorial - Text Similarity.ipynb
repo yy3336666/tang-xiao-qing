{
 "cells": [
  {
   "cell_type": "markdown",
   "metadata": {},
   "source": [
    "# ECO6128 Tutorial - Text Similarity\n",
    "\n",
    "Introducing cosine and Jaccard similarity.\n",
    "\n",
    "Created by *Xinghao YU*, March 18th, 2023\n",
    "\n",
    "*Copyright@Chinese University of Hong Kong, Shenzhen*"
   ]
  },
  {
   "cell_type": "code",
   "execution_count": null,
   "metadata": {
    "ExecuteTime": {
     "end_time": "2023-03-19T09:18:29.578738Z",
     "start_time": "2023-03-19T09:18:27.162126Z"
    }
   },
   "outputs": [],
   "source": [
    "import jieba\n",
    "from sklearn.metrics.pairwise import cosine_similarity\n",
    "corpus = []\n",
    "with open('./hotel.txt') as f:\n",
    "    for line in f:\n",
    "        corpus.append(''.join([word for word in jieba.lcut(line.strip())]))"
   ]
  },
  {
   "cell_type": "markdown",
   "metadata": {},
   "source": [
    "## Cosine similarity"
   ]
  },
  {
   "cell_type": "code",
   "execution_count": null,
   "metadata": {
    "scrolled": true
   },
   "outputs": [],
   "source": [
    "class CosineSimilarity(object):\n",
    "    def __init__(self, content_x1, content_y2):\n",
    "        self.s1 = content_x1\n",
    "        self.s2 = content_y2\n",
    "\n",
    "    @staticmethod\n",
    "    def extract_keyword(content):  # 提取关键词\n",
    "        # 切割\n",
    "        seg = [i for i in jieba.cut(content, cut_all=True) if i != '']\n",
    "        # 提取关键词\n",
    "        keywords = jieba.analyse.extract_tags(\"|\".join(seg), topK=200, withWeight=False)\n",
    "        return keywords\n",
    "\n",
    "    @staticmethod\n",
    "    def one_hot(word_dict, keywords):  # oneHot编码\n",
    "        # cut_code = [word_dict[word] for word in keywords]\n",
    "        cut_code = [0]*len(word_dict)\n",
    "        for word in keywords:\n",
    "            cut_code[word_dict[word]] += 1\n",
    "        return cut_code\n",
    "\n",
    "    def main(self):\n",
    "        # 去除停用词\n",
    "        jieba.analyse.set_stop_words('./stop_word.txt')\n",
    "\n",
    "        # 提取关键词\n",
    "        keywords1 = self.extract_keyword(self.s1)\n",
    "        keywords2 = self.extract_keyword(self.s2)\n",
    "        \n",
    "        # 词的并集\n",
    "        union = set(keywords1).union(set(keywords2))\n",
    "        \n",
    "        # 编码\n",
    "        word_dict = {}\n",
    "        i = 0\n",
    "        for word in union:\n",
    "            word_dict[word] = i\n",
    "            i += 1\n",
    "        #print(word_dict)\n",
    "        \n",
    "        # oneHot编码\n",
    "        s1_cut_code = self.one_hot(word_dict, keywords1)\n",
    "        s2_cut_code = self.one_hot(word_dict, keywords2)\n",
    "        \n",
    "        # 余弦相似度计算\n",
    "        sample = [s1_cut_code, s2_cut_code]\n",
    "        # print(sample)\n",
    "        \n",
    "        # 除零处理\n",
    "        try:\n",
    "            sim = cosine_similarity(sample)\n",
    "            return sim[1][0]\n",
    "        except Exception as e:\n",
    "            print(e)\n",
    "            return 0.0\n",
    "\n",
    "\n",
    "# 测试\n",
    "if __name__ == '__main__':\n",
    "    for i in range(0, len(corpus)-1):\n",
    "        content_x, content_y = corpus[i], corpus[i+1]\n",
    "        similarity = CosineSimilarity(content_x, content_y)\n",
    "        similarity_result = similarity.main()\n",
    "        print('%d, %d, Similarity: %.2f%%' % (i, i+1, similarity_result * 100))"
   ]
  },
  {
   "cell_type": "markdown",
   "metadata": {},
   "source": [
    "## Jaccard similarity"
   ]
  },
  {
   "cell_type": "code",
   "execution_count": null,
   "metadata": {
    "scrolled": true
   },
   "outputs": [],
   "source": [
    "class JaccardSimilarity(object):\n",
    "    def __init__(self, content_x1, content_y2):\n",
    "        self.s1 = content_x1\n",
    "        self.s2 = content_y2\n",
    "\n",
    "    @staticmethod\n",
    "    def extract_keyword(content):  # 提取关键词\n",
    "        # 切割\n",
    "        seg = [i for i in jieba.cut(content, cut_all=True) if i != '']\n",
    "        # 提取关键词\n",
    "        keywords = jieba.analyse.extract_tags(\"|\".join(seg), topK=200, withWeight=False)\n",
    "        return keywords\n",
    "\n",
    "    def main(self):\n",
    "        # 去除停用词\n",
    "        jieba.analyse.set_stop_words('./stop_word.txt')\n",
    "\n",
    "        # 分词与关键词提取\n",
    "        keywords_x = self.extract_keyword(self.s1)\n",
    "        keywords_y = self.extract_keyword(self.s2)\n",
    "\n",
    "        # jaccard相似度计算\n",
    "        intersection = len(list(set(keywords_x).intersection(set(keywords_y))))\n",
    "        union = len(list(set(keywords_x).union(set(keywords_y))))\n",
    "        # 除零处理\n",
    "        sim = float(intersection)/union if union != 0 else 0\n",
    "        return sim\n",
    "\n",
    "\n",
    "# 测试\n",
    "if __name__ == '__main__':\n",
    "    for i in range(0, len(corpus)-1):\n",
    "        content_x, content_y = corpus[i], corpus[i+1]\n",
    "        similarity = JaccardSimilarity(content_x, content_y)\n",
    "        similarity_result = similarity.main()\n",
    "        print('%d, %d, Similarity: %.2f%%' % (i, i+1, similarity_result * 100))"
   ]
  },
  {
   "cell_type": "code",
   "execution_count": null,
   "metadata": {},
   "outputs": [],
   "source": []
  }
 ],
 "metadata": {
  "kernelspec": {
   "display_name": "Python 3",
   "language": "python",
   "name": "python3"
  },
  "language_info": {
   "codemirror_mode": {
    "name": "ipython",
    "version": 3
   },
   "file_extension": ".py",
   "mimetype": "text/x-python",
   "name": "python",
   "nbconvert_exporter": "python",
   "pygments_lexer": "ipython3",
   "version": "3.6.8"
  },
  "varInspector": {
   "cols": {
    "lenName": 16,
    "lenType": 16,
    "lenVar": 40
   },
   "kernels_config": {
    "python": {
     "delete_cmd_postfix": "",
     "delete_cmd_prefix": "del ",
     "library": "var_list.py",
     "varRefreshCmd": "print(var_dic_list())"
    },
    "r": {
     "delete_cmd_postfix": ") ",
     "delete_cmd_prefix": "rm(",
     "library": "var_list.r",
     "varRefreshCmd": "cat(var_dic_list()) "
    }
   },
   "types_to_exclude": [
    "module",
    "function",
    "builtin_function_or_method",
    "instance",
    "_Feature"
   ],
   "window_display": false
  }
 },
 "nbformat": 4,
 "nbformat_minor": 5
}
