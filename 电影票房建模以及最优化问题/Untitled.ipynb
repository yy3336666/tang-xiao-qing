{
 "cells": [
  {
   "cell_type": "markdown",
   "id": "29315d1c",
   "metadata": {},
   "source": [
    "## (a)"
   ]
  },
  {
   "cell_type": "code",
   "execution_count": 1,
   "id": "3260a8dc",
   "metadata": {},
   "outputs": [],
   "source": [
    "import pandas as pd\n",
    "import numpy as np\n",
    "import pyomo.environ as pe\n",
    "solver = pe.SolverFactory('gurobi')"
   ]
  },
  {
   "cell_type": "code",
   "execution_count": 2,
   "id": "a9e9b7f7",
   "metadata": {},
   "outputs": [
    {
     "data": {
      "text/html": [
       "<div>\n",
       "<style scoped>\n",
       "    .dataframe tbody tr th:only-of-type {\n",
       "        vertical-align: middle;\n",
       "    }\n",
       "\n",
       "    .dataframe tbody tr th {\n",
       "        vertical-align: top;\n",
       "    }\n",
       "\n",
       "    .dataframe thead th {\n",
       "        text-align: right;\n",
       "    }\n",
       "</style>\n",
       "<table border=\"1\" class=\"dataframe\">\n",
       "  <thead>\n",
       "    <tr style=\"text-align: right;\">\n",
       "      <th></th>\n",
       "      <th>Unnamed: 0</th>\n",
       "      <th>X1</th>\n",
       "      <th>X2</th>\n",
       "      <th>Y</th>\n",
       "    </tr>\n",
       "  </thead>\n",
       "  <tbody>\n",
       "    <tr>\n",
       "      <th>0</th>\n",
       "      <td>0</td>\n",
       "      <td>8.820262</td>\n",
       "      <td>2.000786</td>\n",
       "      <td>18.531508</td>\n",
       "    </tr>\n",
       "    <tr>\n",
       "      <th>1</th>\n",
       "      <td>1</td>\n",
       "      <td>4.893690</td>\n",
       "      <td>11.204466</td>\n",
       "      <td>47.159228</td>\n",
       "    </tr>\n",
       "    <tr>\n",
       "      <th>2</th>\n",
       "      <td>2</td>\n",
       "      <td>9.337790</td>\n",
       "      <td>-4.886389</td>\n",
       "      <td>30.416522</td>\n",
       "    </tr>\n",
       "    <tr>\n",
       "      <th>3</th>\n",
       "      <td>3</td>\n",
       "      <td>4.750442</td>\n",
       "      <td>-0.756786</td>\n",
       "      <td>6.986012</td>\n",
       "    </tr>\n",
       "    <tr>\n",
       "      <th>4</th>\n",
       "      <td>4</td>\n",
       "      <td>-0.516094</td>\n",
       "      <td>2.052993</td>\n",
       "      <td>14.764671</td>\n",
       "    </tr>\n",
       "    <tr>\n",
       "      <th>...</th>\n",
       "      <td>...</td>\n",
       "      <td>...</td>\n",
       "      <td>...</td>\n",
       "      <td>...</td>\n",
       "    </tr>\n",
       "    <tr>\n",
       "      <th>995</th>\n",
       "      <td>995</td>\n",
       "      <td>6.713110</td>\n",
       "      <td>-3.699679</td>\n",
       "      <td>9.249274</td>\n",
       "    </tr>\n",
       "    <tr>\n",
       "      <th>996</th>\n",
       "      <td>996</td>\n",
       "      <td>6.575688</td>\n",
       "      <td>-1.617287</td>\n",
       "      <td>15.047041</td>\n",
       "    </tr>\n",
       "    <tr>\n",
       "      <th>997</th>\n",
       "      <td>997</td>\n",
       "      <td>0.989141</td>\n",
       "      <td>0.488754</td>\n",
       "      <td>10.834011</td>\n",
       "    </tr>\n",
       "    <tr>\n",
       "      <th>998</th>\n",
       "      <td>998</td>\n",
       "      <td>7.007617</td>\n",
       "      <td>0.792169</td>\n",
       "      <td>6.349938</td>\n",
       "    </tr>\n",
       "    <tr>\n",
       "      <th>999</th>\n",
       "      <td>999</td>\n",
       "      <td>-5.709507</td>\n",
       "      <td>-6.554852</td>\n",
       "      <td>23.876650</td>\n",
       "    </tr>\n",
       "  </tbody>\n",
       "</table>\n",
       "<p>1000 rows × 4 columns</p>\n",
       "</div>"
      ],
      "text/plain": [
       "     Unnamed: 0        X1         X2          Y\n",
       "0             0  8.820262   2.000786  18.531508\n",
       "1             1  4.893690  11.204466  47.159228\n",
       "2             2  9.337790  -4.886389  30.416522\n",
       "3             3  4.750442  -0.756786   6.986012\n",
       "4             4 -0.516094   2.052993  14.764671\n",
       "..          ...       ...        ...        ...\n",
       "995         995  6.713110  -3.699679   9.249274\n",
       "996         996  6.575688  -1.617287  15.047041\n",
       "997         997  0.989141   0.488754  10.834011\n",
       "998         998  7.007617   0.792169   6.349938\n",
       "999         999 -5.709507  -6.554852  23.876650\n",
       "\n",
       "[1000 rows x 4 columns]"
      ]
     },
     "execution_count": 2,
     "metadata": {},
     "output_type": "execute_result"
    }
   ],
   "source": [
    "train_data = pd.read_csv('train.csv')\n",
    "train_data"
   ]
  },
  {
   "cell_type": "code",
   "execution_count": 3,
   "id": "68da745d",
   "metadata": {},
   "outputs": [],
   "source": [
    "x_train = train_data[['X1','X2']]\n",
    "y_train = train_data['Y']\n",
    "x_train = np.array(x_train)\n",
    "y_train = np.array(y_train)"
   ]
  },
  {
   "cell_type": "code",
   "execution_count": 4,
   "id": "8c569ef6",
   "metadata": {},
   "outputs": [
    {
     "data": {
      "text/html": [
       "<div>\n",
       "<style scoped>\n",
       "    .dataframe tbody tr th:only-of-type {\n",
       "        vertical-align: middle;\n",
       "    }\n",
       "\n",
       "    .dataframe tbody tr th {\n",
       "        vertical-align: top;\n",
       "    }\n",
       "\n",
       "    .dataframe thead th {\n",
       "        text-align: right;\n",
       "    }\n",
       "</style>\n",
       "<table border=\"1\" class=\"dataframe\">\n",
       "  <thead>\n",
       "    <tr style=\"text-align: right;\">\n",
       "      <th></th>\n",
       "      <th>Unnamed: 0</th>\n",
       "      <th>X1</th>\n",
       "      <th>X2</th>\n",
       "      <th>Y</th>\n",
       "    </tr>\n",
       "  </thead>\n",
       "  <tbody>\n",
       "    <tr>\n",
       "      <th>0</th>\n",
       "      <td>0</td>\n",
       "      <td>-7.664605</td>\n",
       "      <td>-8.559851</td>\n",
       "      <td>34.143676</td>\n",
       "    </tr>\n",
       "    <tr>\n",
       "      <th>1</th>\n",
       "      <td>1</td>\n",
       "      <td>0.230675</td>\n",
       "      <td>-4.791872</td>\n",
       "      <td>22.535028</td>\n",
       "    </tr>\n",
       "    <tr>\n",
       "      <th>2</th>\n",
       "      <td>2</td>\n",
       "      <td>-0.404058</td>\n",
       "      <td>-3.519295</td>\n",
       "      <td>16.393405</td>\n",
       "    </tr>\n",
       "    <tr>\n",
       "      <th>3</th>\n",
       "      <td>3</td>\n",
       "      <td>-3.853922</td>\n",
       "      <td>-2.404227</td>\n",
       "      <td>4.369055</td>\n",
       "    </tr>\n",
       "    <tr>\n",
       "      <th>4</th>\n",
       "      <td>4</td>\n",
       "      <td>3.517928</td>\n",
       "      <td>4.645726</td>\n",
       "      <td>21.562645</td>\n",
       "    </tr>\n",
       "    <tr>\n",
       "      <th>...</th>\n",
       "      <td>...</td>\n",
       "      <td>...</td>\n",
       "      <td>...</td>\n",
       "      <td>...</td>\n",
       "    </tr>\n",
       "    <tr>\n",
       "      <th>495</th>\n",
       "      <td>495</td>\n",
       "      <td>-1.702800</td>\n",
       "      <td>-6.516100</td>\n",
       "      <td>28.864879</td>\n",
       "    </tr>\n",
       "    <tr>\n",
       "      <th>496</th>\n",
       "      <td>496</td>\n",
       "      <td>2.333753</td>\n",
       "      <td>0.805532</td>\n",
       "      <td>3.636546</td>\n",
       "    </tr>\n",
       "    <tr>\n",
       "      <th>497</th>\n",
       "      <td>497</td>\n",
       "      <td>1.600160</td>\n",
       "      <td>10.395883</td>\n",
       "      <td>57.221907</td>\n",
       "    </tr>\n",
       "    <tr>\n",
       "      <th>498</th>\n",
       "      <td>498</td>\n",
       "      <td>-4.537330</td>\n",
       "      <td>-0.962021</td>\n",
       "      <td>3.971413</td>\n",
       "    </tr>\n",
       "    <tr>\n",
       "      <th>499</th>\n",
       "      <td>499</td>\n",
       "      <td>-6.062579</td>\n",
       "      <td>-0.402993</td>\n",
       "      <td>10.229769</td>\n",
       "    </tr>\n",
       "  </tbody>\n",
       "</table>\n",
       "<p>500 rows × 4 columns</p>\n",
       "</div>"
      ],
      "text/plain": [
       "     Unnamed: 0        X1         X2          Y\n",
       "0             0 -7.664605  -8.559851  34.143676\n",
       "1             1  0.230675  -4.791872  22.535028\n",
       "2             2 -0.404058  -3.519295  16.393405\n",
       "3             3 -3.853922  -2.404227   4.369055\n",
       "4             4  3.517928   4.645726  21.562645\n",
       "..          ...       ...        ...        ...\n",
       "495         495 -1.702800  -6.516100  28.864879\n",
       "496         496  2.333753   0.805532   3.636546\n",
       "497         497  1.600160  10.395883  57.221907\n",
       "498         498 -4.537330  -0.962021   3.971413\n",
       "499         499 -6.062579  -0.402993  10.229769\n",
       "\n",
       "[500 rows x 4 columns]"
      ]
     },
     "execution_count": 4,
     "metadata": {},
     "output_type": "execute_result"
    }
   ],
   "source": [
    "test_data = pd.read_csv('test.csv')\n",
    "test_data"
   ]
  },
  {
   "cell_type": "code",
   "execution_count": 5,
   "id": "0bc3333e",
   "metadata": {},
   "outputs": [],
   "source": [
    "x_test = test_data[['X1','X2']]\n",
    "y_test = test_data['Y']\n",
    "y_test = np.array(y_test)\n",
    "x_test = np.array(x_test)"
   ]
  },
  {
   "cell_type": "code",
   "execution_count": 6,
   "id": "335e3e05",
   "metadata": {},
   "outputs": [],
   "source": [
    "from sklearn.ensemble import RandomForestRegressor\n",
    "import scipy.stats as stats\n",
    "n= 1000\n",
    "T = 500\n",
    "c, p = 0.5, 1"
   ]
  },
  {
   "cell_type": "code",
   "execution_count": 7,
   "id": "be9afe9e",
   "metadata": {},
   "outputs": [],
   "source": [
    "forest_train = RandomForestRegressor(max_depth=5)\n",
    "forest_train.fit(x_train, y_train)\n",
    "y_pred = forest_train.predict(x_test)"
   ]
  },
  {
   "cell_type": "code",
   "execution_count": 8,
   "id": "76fe9bce",
   "metadata": {},
   "outputs": [
    {
     "data": {
      "application/vnd.jupyter.widget-view+json": {
       "model_id": "22c3ef83b6b040b0a31d43f7a8b3bdb9",
       "version_major": 2,
       "version_minor": 0
      },
      "text/plain": [
       "  0%|          | 0/500 [00:00<?, ?it/s]"
      ]
     },
     "metadata": {},
     "output_type": "display_data"
    },
    {
     "name": "stdout",
     "output_type": "stream",
     "text": [
      "WARNING: Could not locate the 'gurobi' executable, which is required for\n",
      "    solver gurobi\n"
     ]
    },
    {
     "ename": "ApplicationError",
     "evalue": "No executable found for solver 'gurobi'",
     "output_type": "error",
     "traceback": [
      "\u001b[1;31m---------------------------------------------------------------------------\u001b[0m",
      "\u001b[1;31mApplicationError\u001b[0m                          Traceback (most recent call last)",
      "\u001b[1;32me:\\data fenxi\\13号作业\\Untitled.ipynb Cell 9\u001b[0m in \u001b[0;36m<cell line: 5>\u001b[1;34m()\u001b[0m\n\u001b[0;32m     <a href='vscode-notebook-cell:/e%3A/data%20fenxi/13%E5%8F%B7%E4%BD%9C%E4%B8%9A/Untitled.ipynb#X11sZmlsZQ%3D%3D?line=9'>10</a>\u001b[0m model_a\u001b[39m.\u001b[39mconstraint1 \u001b[39m=\u001b[39m pe\u001b[39m.\u001b[39mConstraint(expr\u001b[39m=\u001b[39mmodel_a\u001b[39m.\u001b[39ms \u001b[39m<\u001b[39m\u001b[39m=\u001b[39m model_a\u001b[39m.\u001b[39mz)\n\u001b[0;32m     <a href='vscode-notebook-cell:/e%3A/data%20fenxi/13%E5%8F%B7%E4%BD%9C%E4%B8%9A/Untitled.ipynb#X11sZmlsZQ%3D%3D?line=10'>11</a>\u001b[0m model_a\u001b[39m.\u001b[39mconstraint2 \u001b[39m=\u001b[39m pe\u001b[39m.\u001b[39mConstraint(expr\u001b[39m=\u001b[39mmodel_a\u001b[39m.\u001b[39ms \u001b[39m<\u001b[39m\u001b[39m=\u001b[39m y_pred[t])\n\u001b[1;32m---> <a href='vscode-notebook-cell:/e%3A/data%20fenxi/13%E5%8F%B7%E4%BD%9C%E4%B8%9A/Untitled.ipynb#X11sZmlsZQ%3D%3D?line=11'>12</a>\u001b[0m solver\u001b[39m.\u001b[39;49msolve(model_a)\n\u001b[0;32m     <a href='vscode-notebook-cell:/e%3A/data%20fenxi/13%E5%8F%B7%E4%BD%9C%E4%B8%9A/Untitled.ipynb#X11sZmlsZQ%3D%3D?line=12'>13</a>\u001b[0m z_a[t] \u001b[39m=\u001b[39m model_a\u001b[39m.\u001b[39mz()\n",
      "File \u001b[1;32md:\\anaconda\\lib\\site-packages\\pyomo\\opt\\base\\solvers.py:513\u001b[0m, in \u001b[0;36mOptSolver.solve\u001b[1;34m(self, *args, **kwds)\u001b[0m\n\u001b[0;32m    510\u001b[0m \u001b[39mdef\u001b[39;00m \u001b[39msolve\u001b[39m(\u001b[39mself\u001b[39m, \u001b[39m*\u001b[39margs, \u001b[39m*\u001b[39m\u001b[39m*\u001b[39mkwds):\n\u001b[0;32m    511\u001b[0m     \u001b[39m\"\"\" Solve the problem \"\"\"\u001b[39;00m\n\u001b[1;32m--> 513\u001b[0m     \u001b[39mself\u001b[39;49m\u001b[39m.\u001b[39;49mavailable(exception_flag\u001b[39m=\u001b[39;49m\u001b[39mTrue\u001b[39;49;00m)\n\u001b[0;32m    514\u001b[0m     \u001b[39m#\u001b[39;00m\n\u001b[0;32m    515\u001b[0m     \u001b[39m# If the inputs are models, then validate that they have been\u001b[39;00m\n\u001b[0;32m    516\u001b[0m     \u001b[39m# constructed! Collect suffix names to try and import from solution.\u001b[39;00m\n\u001b[0;32m    517\u001b[0m     \u001b[39m#\u001b[39;00m\n\u001b[0;32m    518\u001b[0m     \u001b[39mfrom\u001b[39;00m \u001b[39mpyomo\u001b[39;00m\u001b[39m.\u001b[39;00m\u001b[39mcore\u001b[39;00m\u001b[39m.\u001b[39;00m\u001b[39mbase\u001b[39;00m\u001b[39m.\u001b[39;00m\u001b[39mblock\u001b[39;00m \u001b[39mimport\u001b[39;00m _BlockData\n",
      "File \u001b[1;32md:\\anaconda\\lib\\site-packages\\pyomo\\opt\\solver\\ilmcmd.py:37\u001b[0m, in \u001b[0;36mILMLicensedSystemCallSolver.available\u001b[1;34m(self, exception_flag)\u001b[0m\n\u001b[0;32m     35\u001b[0m \u001b[39mif\u001b[39;00m \u001b[39mself\u001b[39m\u001b[39m.\u001b[39m_assert_available:\n\u001b[0;32m     36\u001b[0m     \u001b[39mreturn\u001b[39;00m \u001b[39mTrue\u001b[39;00m\n\u001b[1;32m---> 37\u001b[0m \u001b[39mif\u001b[39;00m \u001b[39mnot\u001b[39;00m pyomo\u001b[39m.\u001b[39;49mopt\u001b[39m.\u001b[39;49msolver\u001b[39m.\u001b[39;49mshellcmd\u001b[39m.\u001b[39;49mSystemCallSolver\u001b[39m.\u001b[39;49mavailable(\u001b[39mself\u001b[39;49m, exception_flag):\n\u001b[0;32m     38\u001b[0m     \u001b[39mreturn\u001b[39;00m \u001b[39mFalse\u001b[39;00m\n\u001b[0;32m     39\u001b[0m executable \u001b[39m=\u001b[39m pyomo\u001b[39m.\u001b[39mcommon\u001b[39m.\u001b[39mExecutable(\u001b[39m\"\u001b[39m\u001b[39milmlist\u001b[39m\u001b[39m\"\u001b[39m)\n",
      "File \u001b[1;32md:\\anaconda\\lib\\site-packages\\pyomo\\opt\\solver\\shellcmd.py:129\u001b[0m, in \u001b[0;36mSystemCallSolver.available\u001b[1;34m(self, exception_flag)\u001b[0m\n\u001b[0;32m    127\u001b[0m     \u001b[39mif\u001b[39;00m exception_flag:\n\u001b[0;32m    128\u001b[0m         msg \u001b[39m=\u001b[39m \u001b[39m\"\u001b[39m\u001b[39mNo executable found for solver \u001b[39m\u001b[39m'\u001b[39m\u001b[39m%s\u001b[39;00m\u001b[39m'\u001b[39m\u001b[39m\"\u001b[39m\n\u001b[1;32m--> 129\u001b[0m         \u001b[39mraise\u001b[39;00m ApplicationError(msg \u001b[39m%\u001b[39m \u001b[39mself\u001b[39m\u001b[39m.\u001b[39mname)\n\u001b[0;32m    130\u001b[0m     \u001b[39mreturn\u001b[39;00m \u001b[39mFalse\u001b[39;00m\n\u001b[0;32m    131\u001b[0m \u001b[39mreturn\u001b[39;00m \u001b[39mTrue\u001b[39;00m\n",
      "\u001b[1;31mApplicationError\u001b[0m: No executable found for solver 'gurobi'"
     ]
    }
   ],
   "source": [
    "from tqdm.notebook import tqdm\n",
    "\n",
    "z_a = np.zeros(T)\n",
    "\n",
    "for t in tqdm(range(T)):\n",
    "    model_a = pe.ConcreteModel() \n",
    "    model_a.z = pe.Var(domain=pe.NonNegativeReals)\n",
    "    model_a.s = pe.Var(domain=pe.Reals)\n",
    "    model_a.cost = pe.Objective(expr=c*model_a.z-p*model_a.s)\n",
    "    model_a.constraint1 = pe.Constraint(expr=model_a.s <= model_a.z)\n",
    "    model_a.constraint2 = pe.Constraint(expr=model_a.s <= y_pred[t])\n",
    "    solver.solve(model_a)\n",
    "    z_a[t] = model_a.z()"
   ]
  },
  {
   "cell_type": "code",
   "execution_count": 9,
   "id": "84ad772c",
   "metadata": {},
   "outputs": [
    {
     "name": "stdout",
     "output_type": "stream",
     "text": [
      "Point-prediction-driven optimization:\n",
      "Expected cost: 0.0000\n"
     ]
    }
   ],
   "source": [
    "def cost_func(z, y, c=0.5, p=1):\n",
    "    return c*z - p*np.minimum(z, y)\n",
    "\n",
    "\n",
    "perf_PTO = cost_func(z_a, y_test)\n",
    "\n",
    "print(\"Point-prediction-driven optimization:\")\n",
    "print(\"Expected cost: {0:0.4f}\".format(perf_PTO.mean()))"
   ]
  },
  {
   "cell_type": "code",
   "execution_count": 10,
   "id": "ed3d082e",
   "metadata": {},
   "outputs": [
    {
     "data": {
      "text/html": [
       "<style>#sk-container-id-1 {color: black;background-color: white;}#sk-container-id-1 pre{padding: 0;}#sk-container-id-1 div.sk-toggleable {background-color: white;}#sk-container-id-1 label.sk-toggleable__label {cursor: pointer;display: block;width: 100%;margin-bottom: 0;padding: 0.3em;box-sizing: border-box;text-align: center;}#sk-container-id-1 label.sk-toggleable__label-arrow:before {content: \"▸\";float: left;margin-right: 0.25em;color: #696969;}#sk-container-id-1 label.sk-toggleable__label-arrow:hover:before {color: black;}#sk-container-id-1 div.sk-estimator:hover label.sk-toggleable__label-arrow:before {color: black;}#sk-container-id-1 div.sk-toggleable__content {max-height: 0;max-width: 0;overflow: hidden;text-align: left;background-color: #f0f8ff;}#sk-container-id-1 div.sk-toggleable__content pre {margin: 0.2em;color: black;border-radius: 0.25em;background-color: #f0f8ff;}#sk-container-id-1 input.sk-toggleable__control:checked~div.sk-toggleable__content {max-height: 200px;max-width: 100%;overflow: auto;}#sk-container-id-1 input.sk-toggleable__control:checked~label.sk-toggleable__label-arrow:before {content: \"▾\";}#sk-container-id-1 div.sk-estimator input.sk-toggleable__control:checked~label.sk-toggleable__label {background-color: #d4ebff;}#sk-container-id-1 div.sk-label input.sk-toggleable__control:checked~label.sk-toggleable__label {background-color: #d4ebff;}#sk-container-id-1 input.sk-hidden--visually {border: 0;clip: rect(1px 1px 1px 1px);clip: rect(1px, 1px, 1px, 1px);height: 1px;margin: -1px;overflow: hidden;padding: 0;position: absolute;width: 1px;}#sk-container-id-1 div.sk-estimator {font-family: monospace;background-color: #f0f8ff;border: 1px dotted black;border-radius: 0.25em;box-sizing: border-box;margin-bottom: 0.5em;}#sk-container-id-1 div.sk-estimator:hover {background-color: #d4ebff;}#sk-container-id-1 div.sk-parallel-item::after {content: \"\";width: 100%;border-bottom: 1px solid gray;flex-grow: 1;}#sk-container-id-1 div.sk-label:hover label.sk-toggleable__label {background-color: #d4ebff;}#sk-container-id-1 div.sk-serial::before {content: \"\";position: absolute;border-left: 1px solid gray;box-sizing: border-box;top: 0;bottom: 0;left: 50%;z-index: 0;}#sk-container-id-1 div.sk-serial {display: flex;flex-direction: column;align-items: center;background-color: white;padding-right: 0.2em;padding-left: 0.2em;position: relative;}#sk-container-id-1 div.sk-item {position: relative;z-index: 1;}#sk-container-id-1 div.sk-parallel {display: flex;align-items: stretch;justify-content: center;background-color: white;position: relative;}#sk-container-id-1 div.sk-item::before, #sk-container-id-1 div.sk-parallel-item::before {content: \"\";position: absolute;border-left: 1px solid gray;box-sizing: border-box;top: 0;bottom: 0;left: 50%;z-index: -1;}#sk-container-id-1 div.sk-parallel-item {display: flex;flex-direction: column;z-index: 1;position: relative;background-color: white;}#sk-container-id-1 div.sk-parallel-item:first-child::after {align-self: flex-end;width: 50%;}#sk-container-id-1 div.sk-parallel-item:last-child::after {align-self: flex-start;width: 50%;}#sk-container-id-1 div.sk-parallel-item:only-child::after {width: 0;}#sk-container-id-1 div.sk-dashed-wrapped {border: 1px dashed gray;margin: 0 0.4em 0.5em 0.4em;box-sizing: border-box;padding-bottom: 0.4em;background-color: white;}#sk-container-id-1 div.sk-label label {font-family: monospace;font-weight: bold;display: inline-block;line-height: 1.2em;}#sk-container-id-1 div.sk-label-container {text-align: center;}#sk-container-id-1 div.sk-container {/* jupyter's `normalize.less` sets `[hidden] { display: none; }` but bootstrap.min.css set `[hidden] { display: none !important; }` so we also need the `!important` here to be able to override the default hidden behavior on the sphinx rendered scikit-learn.org. See: https://github.com/scikit-learn/scikit-learn/issues/21755 */display: inline-block !important;position: relative;}#sk-container-id-1 div.sk-text-repr-fallback {display: none;}</style><div id=\"sk-container-id-1\" class=\"sk-top-container\"><div class=\"sk-text-repr-fallback\"><pre>RandomizedSearchCV(estimator=XGBRegressor(base_score=None, booster=None,\n",
       "                                          callbacks=None,\n",
       "                                          colsample_bylevel=None,\n",
       "                                          colsample_bynode=None,\n",
       "                                          colsample_bytree=None,\n",
       "                                          early_stopping_rounds=None,\n",
       "                                          enable_categorical=False,\n",
       "                                          eval_metric=None, gamma=None,\n",
       "                                          gpu_id=None, grow_policy=None,\n",
       "                                          importance_type=None,\n",
       "                                          interaction_constraints=None,\n",
       "                                          learning_rate=None, max_bin=None,\n",
       "                                          max_ca...\n",
       "                                          reg_alpha=None, reg_lambda=None, ...),\n",
       "                   n_iter=25,\n",
       "                   param_distributions={&#x27;gamma&#x27;: &lt;scipy.stats._distn_infrastructure.rv_frozen object at 0x0000015E61B32490&gt;,\n",
       "                                        &#x27;learning_rate&#x27;: &lt;scipy.stats._distn_infrastructure.rv_frozen object at 0x0000015E61AAA4C0&gt;,\n",
       "                                        &#x27;max_depth&#x27;: range(1, 50),\n",
       "                                        &#x27;min_child_weight&#x27;: range(1, 10),\n",
       "                                        &#x27;n_estimators&#x27;: range(1, 300)},\n",
       "                   scoring=&#x27;neg_mean_squared_error&#x27;)</pre><b>In a Jupyter environment, please rerun this cell to show the HTML representation or trust the notebook. <br />On GitHub, the HTML representation is unable to render, please try loading this page with nbviewer.org.</b></div><div class=\"sk-container\" hidden><div class=\"sk-item sk-dashed-wrapped\"><div class=\"sk-label-container\"><div class=\"sk-label sk-toggleable\"><input class=\"sk-toggleable__control sk-hidden--visually\" id=\"sk-estimator-id-1\" type=\"checkbox\" ><label for=\"sk-estimator-id-1\" class=\"sk-toggleable__label sk-toggleable__label-arrow\">RandomizedSearchCV</label><div class=\"sk-toggleable__content\"><pre>RandomizedSearchCV(estimator=XGBRegressor(base_score=None, booster=None,\n",
       "                                          callbacks=None,\n",
       "                                          colsample_bylevel=None,\n",
       "                                          colsample_bynode=None,\n",
       "                                          colsample_bytree=None,\n",
       "                                          early_stopping_rounds=None,\n",
       "                                          enable_categorical=False,\n",
       "                                          eval_metric=None, gamma=None,\n",
       "                                          gpu_id=None, grow_policy=None,\n",
       "                                          importance_type=None,\n",
       "                                          interaction_constraints=None,\n",
       "                                          learning_rate=None, max_bin=None,\n",
       "                                          max_ca...\n",
       "                                          reg_alpha=None, reg_lambda=None, ...),\n",
       "                   n_iter=25,\n",
       "                   param_distributions={&#x27;gamma&#x27;: &lt;scipy.stats._distn_infrastructure.rv_frozen object at 0x0000015E61B32490&gt;,\n",
       "                                        &#x27;learning_rate&#x27;: &lt;scipy.stats._distn_infrastructure.rv_frozen object at 0x0000015E61AAA4C0&gt;,\n",
       "                                        &#x27;max_depth&#x27;: range(1, 50),\n",
       "                                        &#x27;min_child_weight&#x27;: range(1, 10),\n",
       "                                        &#x27;n_estimators&#x27;: range(1, 300)},\n",
       "                   scoring=&#x27;neg_mean_squared_error&#x27;)</pre></div></div></div><div class=\"sk-parallel\"><div class=\"sk-parallel-item\"><div class=\"sk-item\"><div class=\"sk-label-container\"><div class=\"sk-label sk-toggleable\"><input class=\"sk-toggleable__control sk-hidden--visually\" id=\"sk-estimator-id-2\" type=\"checkbox\" ><label for=\"sk-estimator-id-2\" class=\"sk-toggleable__label sk-toggleable__label-arrow\">estimator: XGBRegressor</label><div class=\"sk-toggleable__content\"><pre>XGBRegressor(base_score=None, booster=None, callbacks=None,\n",
       "             colsample_bylevel=None, colsample_bynode=None,\n",
       "             colsample_bytree=None, early_stopping_rounds=None,\n",
       "             enable_categorical=False, eval_metric=None, gamma=None,\n",
       "             gpu_id=None, grow_policy=None, importance_type=None,\n",
       "             interaction_constraints=None, learning_rate=None, max_bin=None,\n",
       "             max_cat_to_onehot=None, max_delta_step=None, max_depth=None,\n",
       "             max_leaves=None, min_child_weight=None, missing=nan,\n",
       "             monotone_constraints=None, n_estimators=100, n_jobs=None,\n",
       "             num_parallel_tree=None, predictor=None, random_state=None,\n",
       "             reg_alpha=None, reg_lambda=None, ...)</pre></div></div></div><div class=\"sk-serial\"><div class=\"sk-item\"><div class=\"sk-estimator sk-toggleable\"><input class=\"sk-toggleable__control sk-hidden--visually\" id=\"sk-estimator-id-3\" type=\"checkbox\" ><label for=\"sk-estimator-id-3\" class=\"sk-toggleable__label sk-toggleable__label-arrow\">XGBRegressor</label><div class=\"sk-toggleable__content\"><pre>XGBRegressor(base_score=None, booster=None, callbacks=None,\n",
       "             colsample_bylevel=None, colsample_bynode=None,\n",
       "             colsample_bytree=None, early_stopping_rounds=None,\n",
       "             enable_categorical=False, eval_metric=None, gamma=None,\n",
       "             gpu_id=None, grow_policy=None, importance_type=None,\n",
       "             interaction_constraints=None, learning_rate=None, max_bin=None,\n",
       "             max_cat_to_onehot=None, max_delta_step=None, max_depth=None,\n",
       "             max_leaves=None, min_child_weight=None, missing=nan,\n",
       "             monotone_constraints=None, n_estimators=100, n_jobs=None,\n",
       "             num_parallel_tree=None, predictor=None, random_state=None,\n",
       "             reg_alpha=None, reg_lambda=None, ...)</pre></div></div></div></div></div></div></div></div></div></div>"
      ],
      "text/plain": [
       "RandomizedSearchCV(estimator=XGBRegressor(base_score=None, booster=None,\n",
       "                                          callbacks=None,\n",
       "                                          colsample_bylevel=None,\n",
       "                                          colsample_bynode=None,\n",
       "                                          colsample_bytree=None,\n",
       "                                          early_stopping_rounds=None,\n",
       "                                          enable_categorical=False,\n",
       "                                          eval_metric=None, gamma=None,\n",
       "                                          gpu_id=None, grow_policy=None,\n",
       "                                          importance_type=None,\n",
       "                                          interaction_constraints=None,\n",
       "                                          learning_rate=None, max_bin=None,\n",
       "                                          max_ca...\n",
       "                                          reg_alpha=None, reg_lambda=None, ...),\n",
       "                   n_iter=25,\n",
       "                   param_distributions={'gamma': <scipy.stats._distn_infrastructure.rv_frozen object at 0x0000015E61B32490>,\n",
       "                                        'learning_rate': <scipy.stats._distn_infrastructure.rv_frozen object at 0x0000015E61AAA4C0>,\n",
       "                                        'max_depth': range(1, 50),\n",
       "                                        'min_child_weight': range(1, 10),\n",
       "                                        'n_estimators': range(1, 300)},\n",
       "                   scoring='neg_mean_squared_error')"
      ]
     },
     "execution_count": 10,
     "metadata": {},
     "output_type": "execute_result"
    }
   ],
   "source": [
    "from sklearn.model_selection import RandomizedSearchCV, cross_val_score\n",
    "from scipy.stats import uniform\n",
    "from xgboost import XGBRegressor\n",
    "\n",
    "\n",
    "# instantiate an XGBRegressor with default hyperparameter settings\n",
    "xgb = XGBRegressor(objective = 'reg:squarederror')\n",
    "\n",
    "# compute a baseline to beat with hyperparameter optimization \n",
    "# average -MSE on the 5 validation sets\n",
    "baseline = cross_val_score(xgb, x_train, y_train, scoring = 'neg_mean_squared_error').mean()\n",
    "param_dist = {\n",
    "    \"learning_rate\": uniform(0, 1),\n",
    "    \"gamma\": uniform(0, 5),\n",
    "    \"max_depth\": range(1, 50),\n",
    "    \"n_estimators\": range(1, 300),\n",
    "    \"min_child_weight\": range(1, 10)}\n",
    "\n",
    "rs = RandomizedSearchCV(\n",
    "    xgb, param_distributions = param_dist, \n",
    "    scoring = 'neg_mean_squared_error', n_iter = 25)\n",
    "\n",
    "# run random search for 25 iterations\n",
    "rs.fit(x_train, y_train)"
   ]
  },
  {
   "cell_type": "code",
   "execution_count": 11,
   "id": "5d5810b6",
   "metadata": {},
   "outputs": [],
   "source": [
    "import GPy\n",
    "import GPyOpt\n",
    "from GPyOpt.methods import BayesianOptimization\n",
    "bds = [\n",
    "    {'name': 'learning_rate', 'type': 'continuous', 'domain': (0, 1)},\n",
    "    {'name': 'gamma', 'type': 'continuous', 'domain': (0, 5)},\n",
    "    {'name': 'max_depth', 'type': 'discrete', 'domain': (1, 50)},\n",
    "    {'name': 'n_estimators', 'type': 'discrete', 'domain': (1, 300)},\n",
    "    {'name': 'min_child_weight', 'type': 'discrete', 'domain': (1, 10)}]\n",
    "\n",
    "# optimization objective \n",
    "def cv_score(parameters):\n",
    "    parameters = parameters[0]\n",
    "    score = cross_val_score(\n",
    "        XGBRegressor(\n",
    "            objective = 'reg:squarederror',\n",
    "            learning_rate = parameters[0],\n",
    "            gamma = int(parameters[1]),\n",
    "            max_depth = int(parameters[2]),\n",
    "            n_estimators = int(parameters[3]),\n",
    "            min_child_weight = parameters[4]), \n",
    "            x_train, y_train, scoring = 'neg_mean_squared_error').mean()\n",
    "    score = np.array(score)\n",
    "    return score\n",
    "\n",
    "# by default, initial_design_numdata = 5\n",
    "optimizer = BayesianOptimization(\n",
    "    f = cv_score, \n",
    "    domain = bds,\n",
    "    model_type = 'GP',\n",
    "    acquisition_type = 'EI',\n",
    "    acquisition_jitter = 0.05,\n",
    "    exact_feval = True, \n",
    "    maximize = True)\n",
    "\n",
    "# only 20 iterations + 5 initial random points\n",
    "optimizer.run_optimization(max_iter = 20)"
   ]
  },
  {
   "cell_type": "code",
   "execution_count": 12,
   "id": "64a2b9b8",
   "metadata": {},
   "outputs": [
    {
     "data": {
      "text/plain": [
       "{'gamma': 0.894992562991383,\n",
       " 'learning_rate': 0.21235329027534477,\n",
       " 'max_depth': 7,\n",
       " 'min_child_weight': 5,\n",
       " 'n_estimators': 101}"
      ]
     },
     "execution_count": 12,
     "metadata": {},
     "output_type": "execute_result"
    }
   ],
   "source": [
    "rs.best_params_"
   ]
  },
  {
   "cell_type": "code",
   "execution_count": 13,
   "id": "fa14aeb1",
   "metadata": {},
   "outputs": [
    {
     "name": "stdout",
     "output_type": "stream",
     "text": [
      "Baseline neg. MSE = -31.85\n",
      "Random search neg. MSE = -31.98\n",
      "Bayesian optimization neg. MSE = -38.02\n"
     ]
    }
   ],
   "source": [
    "y_rs = np.maximum.accumulate(rs.cv_results_['mean_test_score'])\n",
    "y_bo = np.maximum.accumulate(-optimizer.Y).ravel()\n",
    "\n",
    "print(f'Baseline neg. MSE = {baseline:.2f}')\n",
    "print(f'Random search neg. MSE = {y_rs[-1]:.2f}')\n",
    "print(f'Bayesian optimization neg. MSE = {y_bo[-1]:.2f}')"
   ]
  },
  {
   "cell_type": "code",
   "execution_count": 14,
   "id": "35efcf46",
   "metadata": {},
   "outputs": [],
   "source": [
    "leaves=forest_train.apply(x_train)"
   ]
  },
  {
   "cell_type": "code",
   "execution_count": null,
   "id": "8614246b",
   "metadata": {},
   "outputs": [],
   "source": [
    "z_tree = np.zeros(T)\n",
    "\n",
    "for t in tqdm(range(T)):\n",
    "    tofs=[]\n",
    "\n",
    "    w = np.zeros(n) \n",
    "    model_tree = pe.ConcreteModel() \n",
    "    model_tree.z = pe.Var(domain=pe.NonNegativeReals)\n",
    "    model_tree.s = pe.Var(range(n), domain=pe.Reals)\n",
    "    leaf = forest_train.apply([x_test[t, :]])[0]\n",
    "    for i in range(len(leaves)):\n",
    "        tot = sum(leaf == leaves[i])\n",
    "        tofs.append(tot) \n",
    "    for i in range(n):\n",
    "        for j in range(leaves.shape[1]):\n",
    "            w[i]+=(1/n)*((leaf[j]== leaves[i][j]) / tofs[i])\n",
    "    \n",
    "    model_tree.cost = pe.Objective(expr=sum(w[i]*(c*model_tree.z-p*model_tree.s[i]) for i in range(n)))\n",
    "    model_tree.constraint1 = pe.Constraint(range(n), rule=\n",
    "                                          lambda mod, i: mod.s[i] <= mod.z)\n",
    "    model_tree.constraint2 = pe.Constraint(range(n), rule=\n",
    "                                          lambda mod, i: mod.s[i] <= y_train[i])\n",
    "    #solver.solve(model_tree)\n",
    "    z_tree[t] = model_tree.z()"
   ]
  },
  {
   "cell_type": "code",
   "execution_count": 17,
   "id": "f51ccde9",
   "metadata": {},
   "outputs": [
    {
     "name": "stdout",
     "output_type": "stream",
     "text": [
      "Point-prediction-driven optimization:\n",
      "Expected cost: nan\n"
     ]
    }
   ],
   "source": [
    "perf_PTO = cost_func(z_tree, y_test)\n",
    "\n",
    "print(\"Point-prediction-driven optimization:\")\n",
    "print(\"Expected cost: {0:0.4f}\".format(perf_PTO.mean()))"
   ]
  },
  {
   "cell_type": "code",
   "execution_count": null,
   "id": "66f11a6f",
   "metadata": {},
   "outputs": [],
   "source": [
    "def kern_Gaus(u):\n",
    "    return np.exp(-np.sum(u**2))/np.sqrt(2*np.pi)\n",
    "z_kern = np.zeros(T)\n",
    "bandwidth = 2 # perf-sensitive parameter, h\n",
    "\n",
    "for t in tqdm(range(T)):   \n",
    "    w = np.zeros(n)\n",
    "    model_kern = pe.ConcreteModel() \n",
    "    model_kern.z = pe.Var(domain=pe.NonNegativeReals)\n",
    "    model_kern.s = pe.Var(range(n), domain=pe.Reals)    \n",
    "    \n",
    "    for i in range(n):\n",
    "        w[i] = kern_Gaus((x_test[t,:] - x_train[i,:])/bandwidth) \n",
    "    \n",
    "    model_kern.cost = pe.Objective(expr=sum(w[i]*(c*model_kern.z-p*model_kern.s[i]) for i in range(n)))\n",
    "    model_kern.constraint1 = pe.Constraint(range(n), rule=\n",
    "                                          lambda mod, i: mod.s[i] <= mod.z)\n",
    "    model_kern.constraint2 = pe.Constraint(range(n), rule=\n",
    "                                          lambda mod, i: mod.s[i] <= y_train[i])\n",
    "    solver.solve(model_kern)\n",
    "    z_kern[t] = model_kern.z()"
   ]
  },
  {
   "cell_type": "code",
   "execution_count": 19,
   "id": "b5d6766f",
   "metadata": {},
   "outputs": [
    {
     "name": "stdout",
     "output_type": "stream",
     "text": [
      "Point-prediction-driven optimization:\n",
      "Expected cost: 0.0000\n"
     ]
    }
   ],
   "source": [
    "perf_PTO = cost_func(z_kern, y_test)\n",
    "\n",
    "print(\"Point-prediction-driven optimization:\")\n",
    "print(\"Expected cost: {0:0.4f}\".format(perf_PTO.mean()))"
   ]
  }
 ],
 "metadata": {
  "kernelspec": {
   "display_name": "base",
   "language": "python",
   "name": "python3"
  },
  "language_info": {
   "codemirror_mode": {
    "name": "ipython",
    "version": 3
   },
   "file_extension": ".py",
   "mimetype": "text/x-python",
   "name": "python",
   "nbconvert_exporter": "python",
   "pygments_lexer": "ipython3",
   "version": "3.9.12 (main, Apr  4 2022, 05:22:27) [MSC v.1916 64 bit (AMD64)]"
  },
  "vscode": {
   "interpreter": {
    "hash": "5179d32cf6ec497baf3f8a3ef987cc77c5d2dc691fdde20a56316522f61a7323"
   }
  }
 },
 "nbformat": 4,
 "nbformat_minor": 5
}
