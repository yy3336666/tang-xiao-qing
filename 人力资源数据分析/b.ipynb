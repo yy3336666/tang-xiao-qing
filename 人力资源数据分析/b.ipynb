{
 "cells": [
  {
   "cell_type": "code",
   "execution_count": null,
   "metadata": {},
   "outputs": [],
   "source": []
  }
 ],
 "metadata": {
  "kernelspec": {
   "display_name": "Python 3",
   "language": "python",
   "name": "python3"
  },
  "language_info": {
   "name": "python",
   "version": "3.10.5 (tags/v3.10.5:f377153, Jun  6 2022, 16:14:13) [MSC v.1929 64 bit (AMD64)]"
  },
  "orig_nbformat": 4,
  "vscode": {
   "interpreter": {
    "hash": "cb2b3e7d64cabf0753712ba68b736a41f1307dde8fba5ae46fd95c20e54280e6"
   }
  }
 },
 "nbformat": 4,
 "nbformat_minor": 2
}
