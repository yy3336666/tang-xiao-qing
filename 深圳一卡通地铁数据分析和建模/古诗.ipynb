{
 "cells": [
  {
   "cell_type": "code",
   "execution_count": 12,
   "metadata": {},
   "outputs": [],
   "source": [
    "import pandas as pd\n",
    "import numpy as np\n",
    "import jieba \n",
    "from collections import Counter"
   ]
  },
  {
   "cell_type": "code",
   "execution_count": 13,
   "metadata": {},
   "outputs": [],
   "source": [
    "def get_index(lst=None, item=''):\n",
    "    return [i for i in range(len(lst)) if lst[i] == item] \n",
    "with open(\"stoplist.txt\", encoding=\"utf-8-sig\") as f:#打开停用词\n",
    "    stop_words = f.read().split()\n",
    "stop_words = set(stop_words)\n",
    "with open('content_1673171156399.txt',encoding='utf-8') as f:#打开文件\n",
    "    number={}\n",
    "    a=[]\n",
    "    b=[]\n",
    "    c=[]\n",
    "    for line in f.readlines():\n",
    "        if line.startswith('作者'):\n",
    "            line=line.replace('作者:','')#将作者字符添加到列表\n",
    "            line=line.strip()\n",
    "            a.append(line)\n",
    "        if line.startswith('诗体'):\n",
    "            line=line.replace('诗体:','')#将诗体字符添加到列表\n",
    "            line=line.strip()\n",
    "            b.append(line)\n",
    "        if line.startswith('诗文'):\n",
    "            line=line.replace('诗文:','')#将诗文字符添加到列表\n",
    "            count1=jieba.lcut(line[6:])\n",
    "            word_count={}\n",
    "            for word in count1:\n",
    "                print(word)\n",
    "                if word not in stop_words and '\\n'!= word and len(word)>1 and '押韵'not in word:\n",
    "                    word_count[word] = word_count.get(word, 0) + 1\n",
    "            items = list(word_count.items())\n",
    "            c.append(word_count)\n",
    "count=Counter(a)\n",
    "print(sorted(count.items(),key= lambda x:x[1],reverse=True))\n",
    "d=[]\n",
    "for i in set(a):\n",
    "    e={}\n",
    "    index=get_index(a,i)\n",
    "    for j in index:\n",
    "        e.update(c[j])\n",
    "    d.append((i,sorted(e.items(),key=lambda x:x[1],reverse=True)[0][0]))#生成每个诗人的最高频率词\n",
    "print(d)\n",
    "f=[]\n",
    "for i in set(b):\n",
    "    e={}\n",
    "    index=get_index(b,i)\n",
    "    for j in index:\n",
    "        e.update(c[j])\n",
    "    f.append((i,sorted(e.items(),key=lambda x:x[1],reverse=True)[0][0]))#生成每个诗的类型的最高频率词汇\n",
    "print(f)"
   ]
  },
  {
   "cell_type": "code",
   "execution_count": 49,
   "metadata": {},
   "outputs": [],
   "source": [
    "d=[]\n",
    "for i in set(a):\n",
    "    e={}\n",
    "    index=get_index(a,i)\n",
    "    for j in index:\n",
    "        e.update(c[j])\n",
    "    d.append((i,sorted(e.items(),key=lambda x:x[1],reverse=True)[0][0]))#生成每个诗人的最高频率词"
   ]
  },
  {
   "cell_type": "code",
   "execution_count": 50,
   "metadata": {},
   "outputs": [
    {
     "data": {
      "text/plain": [
       "[('张祜', '三千里'),\n",
       " ('陈陶', '匈奴'),\n",
       " ('王之涣', '日依山'),\n",
       " ('元结', '山林'),\n",
       " ('柳中庸', '金河'),\n",
       " ('刘方平', '月色'),\n",
       " ('贺知章', '离家'),\n",
       " ('刘禹锡', '英雄'),\n",
       " ('孟郊', '鸳鸯'),\n",
       " ('戴叔伦', '秋月'),\n",
       " ('韩翃', '迎风'),\n",
       " ('许浑', '叶晚'),\n",
       " ('李频', '外音'),\n",
       " ('皇甫冉', '燕语'),\n",
       " ('王勃', '阙辅'),\n",
       " ('韩偓', '阑干'),\n",
       " ('元稹', '最小'),\n",
       " ('杜荀鹤', '婵娟'),\n",
       " ('韦庄', '瑟怨'),\n",
       " ('刘慎虚', '白云'),\n",
       " ('无名氏', '寒食'),\n",
       " ('王建', '入厨'),\n",
       " ('马戴', '风雨'),\n",
       " ('祖咏', '台一去'),\n",
       " ('邱为', '直上'),\n",
       " ('金昌绪', '黄莺儿'),\n",
       " ('李端', '金粟柱'),\n",
       " ('温庭筠', '戍落'),\n",
       " ('贾岛', '童子'),\n",
       " ('柳宗元', '清心'),\n",
       " ('裴迪', '深浅'),\n",
       " ('韩愈', '石鼓'),\n",
       " ('西鄙人', '七星'),\n",
       " ('崔颢', '黄鹤'),\n",
       " ('司空曙', '江海'),\n",
       " ('宋之问', '南飞雁'),\n",
       " ('张乔', '角断'),\n",
       " ('杜牧', '良伴'),\n",
       " ('白居易', '君王'),\n",
       " ('崔曙', '皇帝'),\n",
       " ('权德舆', '裙带'),\n",
       " ('僧皎然', '虽带'),\n",
       " ('张继', '乌啼霜'),\n",
       " ('杜审言', '宦游'),\n",
       " ('秦韬玉', '门未识'),\n",
       " ('岑参', '高耸'),\n",
       " ('张泌', '依依'),\n",
       " ('李颀', '少小'),\n",
       " ('王昌龄', '月初'),\n",
       " ('唐玄宗', '何为'),\n",
       " ('刘长卿', '台摇'),\n",
       " ('薛逢', '二楼'),\n",
       " ('陈子昂', '后不见来者'),\n",
       " ('张旭', '飞桥'),\n",
       " ('骆宾王', '蝉声'),\n",
       " ('朱庆余', '寂花'),\n",
       " ('李益', '离乱'),\n",
       " ('李白', '庐山'),\n",
       " ('郑畋', '宗回马'),\n",
       " ('顾况', '楼天'),\n",
       " ('崔涂', '递三巴路'),\n",
       " ('王湾', '青山'),\n",
       " ('高适', '汉将'),\n",
       " ('常建', '隐处'),\n",
       " ('王翰', '美酒'),\n",
       " ('王维', '青溪'),\n",
       " ('韦应物', '燕寝'),\n",
       " ('沈佺期', '黄龙'),\n",
       " ('张籍', '城下'),\n",
       " ('孟浩然', '鹿门'),\n",
       " ('綦毋潜', '此去'),\n",
       " ('杜秋娘', '劝君'),\n",
       " ('钱起', '随缘'),\n",
       " ('张九龄', '池潢'),\n",
       " ('卢纶', '衰草'),\n",
       " ('李商隐', '圣相'),\n",
       " ('杜甫', '王孙')]"
      ]
     },
     "execution_count": 50,
     "metadata": {},
     "output_type": "execute_result"
    }
   ],
   "source": [
    "d"
   ]
  },
  {
   "cell_type": "code",
   "execution_count": 53,
   "metadata": {},
   "outputs": [],
   "source": [
    "f=[]\n",
    "for i in set(b):\n",
    "    e={}\n",
    "    index=get_index(b,i)\n",
    "    for j in index:\n",
    "        e.update(c[j])\n",
    "    f.append((i,sorted(e.items(),key=lambda x:x[1],reverse=True)[0][0]))#生成每个诗的类型的最高频率词汇\n",
    "        "
   ]
  },
  {
   "cell_type": "code",
   "execution_count": 54,
   "metadata": {},
   "outputs": [
    {
     "data": {
      "text/plain": [
       "[('五言律诗', '阙辅'),\n",
       " ('七言律诗', '蓬山'),\n",
       " ('七言古诗', '君王'),\n",
       " ('乐府', '王孙'),\n",
       " ('五言古诗', '新人'),\n",
       " ('五言绝句', '落古'),\n",
       " ('七言绝句', '巴山夜雨')]"
      ]
     },
     "execution_count": 54,
     "metadata": {},
     "output_type": "execute_result"
    }
   ],
   "source": [
    "f"
   ]
  },
  {
   "cell_type": "code",
   "execution_count": 425,
   "metadata": {},
   "outputs": [],
   "source": [
    "import matplotlib.pyplot as plt\n",
    "df=pd.read_csv('深圳一卡通刷卡数据\\shenzhenkatong1.csv')\n",
    "df1=pd.read_csv('深圳一卡通刷卡数据\\shenzhenkatong2.csv')\n",
    "plt.rcParams['font.sans-serif'] = ['SimHei']\n",
    "#导入数据\n",
    "df_all=pd.concat([df,df1])#数据按时间合并\n",
    "df_all.isna().value_counts()#显示各列缺失值\n",
    "df_all.dropna(subset='car_no',inplace=True)#删除car_no\n",
    "df_all['deal_date']=df_all['deal_date'].apply(lambda x:'2018/9/1 '+x[9:]+':00')\n",
    "\n",
    "df_all['deal_date']=pd.to_datetime(df_all['deal_date'])#对时间序列进行格式转化。\n",
    "df_all=df_all.sort_values('deal_date').reset_index(drop=True)\n",
    "print(df_all)\n",
    "df_all=df_all.set_index('deal_date',drop=False).sort_index()\n",
    "a=df_all['deal_date'].value_counts()\n",
    "a=a.sort_index()#对数据按时间进行从小到大排序\n",
    "\n",
    "plt.plot(a.index,a)#绘制整体人流量曲线图\n",
    "plt.show()"
   ]
  },
  {
   "cell_type": "code",
   "execution_count": 435,
   "metadata": {},
   "outputs": [
    {
     "data": {
      "text/plain": [
       "[<matplotlib.lines.Line2D at 0x2488d3ae6a0>]"
      ]
     },
     "execution_count": 435,
     "metadata": {},
     "output_type": "execute_result"
    },
    {
     "data": {
      "image/png": "[encoded data removed]",
      "text/plain": [
       "<Figure size 640x480 with 1 Axes>"
      ]
     },
     "metadata": {},
     "output_type": "display_data"
    }
   ],
   "source": [
    "q=df_all.groupby('deal_type')['deal_date'].value_counts()\n",
    "plt.plot(q['地铁入站'].sort_index().index,q['地铁入站'].sort_index())\n",
    "plt.plot(q['地铁出站'].sort_index().index,q['地铁出站'].sort_index())#绘制不同线路勾勒出曲线图"
   ]
  },
  {
   "cell_type": "code",
   "execution_count": 436,
   "metadata": {},
   "outputs": [
    {
     "name": "stdout",
     "output_type": "stream",
     "text": [
      "['黄木岗' '长龙' '民乐' '龙华' '红岭北' '太安' '上沙' '永湖' '丹竹头' '下水径']\n"
     ]
    },
    {
     "data": {
      "image/png": "[encoded data removed]",
      "text/plain": [
       "<Figure size 640x480 with 1 Axes>"
      ]
     },
     "metadata": {},
     "output_type": "display_data"
    }
   ],
   "source": [
    "r=df_all.groupby('station')['deal_date'].value_counts()\n",
    "for i in df_all['station'].unique()[:10]:\n",
    "    plt.plot(r[i].sort_index().index,r[i].sort_index())\n",
    "print(df_all['station'].unique()[:10])#绘制不同站点勾勒出曲线图\n",
    "    \n",
    " "
   ]
  },
  {
   "cell_type": "code",
   "execution_count": 384,
   "metadata": {},
   "outputs": [
    {
     "data": {
      "text/plain": [
       "170"
      ]
     },
     "execution_count": 384,
     "metadata": {},
     "output_type": "execute_result"
    }
   ],
   "source": [
    "len(df_all['station'].unique())"
   ]
  }
 ],
 "metadata": {
  "kernelspec": {
   "display_name": "base",
   "language": "python",
   "name": "python3"
  },
  "language_info": {
   "codemirror_mode": {
    "name": "ipython",
    "version": 3
   },
   "file_extension": ".py",
   "mimetype": "text/x-python",
   "name": "python",
   "nbconvert_exporter": "python",
   "pygments_lexer": "ipython3",
   "version": "3.9.12 (main, Apr  4 2022, 05:22:27) [MSC v.1916 64 bit (AMD64)]"
  },
  "orig_nbformat": 4,
  "vscode": {
   "interpreter": {
    "hash": "5179d32cf6ec497baf3f8a3ef987cc77c5d2dc691fdde20a56316522f61a7323"
   }
  }
 },
 "nbformat": 4,
 "nbformat_minor": 2
}
