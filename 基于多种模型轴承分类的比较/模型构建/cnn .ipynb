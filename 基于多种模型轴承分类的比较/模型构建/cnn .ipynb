{
 "cells": [
  {
   "cell_type": "code",
   "execution_count": null,
   "metadata": {},
   "outputs": [],
   "source": [
    "import torch.nn as nn\n",
    "import torch.nn.functional as F\n",
    "import torch\n",
    "import numpy as np \n",
    "import pandas as pd\n",
    "import matplotlib.pyplot as plt"
   ]
  },
  {
   "cell_type": "code",
   "execution_count": null,
   "metadata": {},
   "outputs": [],
   "source": [
    "\n",
    "\n",
    "\n",
    "class Simple_CNN(nn.Module):\n",
    "    def __init__(self,inputs, class_num):\n",
    "        super(Simple_CNN, self).__init__()\n",
    "        self.class_num = class_num\n",
    "        self.conv1 = nn.Sequential(\n",
    "            nn.Conv2d(\t\t# input: 3,400,600\n",
    "                in_channels=inputs,\n",
    "                out_channels=8,\n",
    "                kernel_size=5,\n",
    "                stride=1,\n",
    "                padding=2\n",
    "            ),\n",
    "            nn.Conv2d(\n",
    "                in_channels=8,\n",
    "                out_channels=16,\n",
    "                kernel_size=5,\n",
    "                stride=1,\n",
    "                padding=2\n",
    "            ),\n",
    "            nn.AvgPool2d(2),  # 16,400,600 --> 16,200,300\n",
    "            nn.BatchNorm2d(16),\n",
    "            nn.LeakyReLU(),\n",
    "            nn.Conv2d(\n",
    "                in_channels=16,\n",
    "                out_channels=16,\n",
    "                kernel_size=5,\n",
    "                stride=1,\n",
    "                padding=2\n",
    "            ),\n",
    "            nn.Conv2d(\n",
    "                in_channels=16,\n",
    "                out_channels=8,\n",
    "                kernel_size=5,\n",
    "                stride=1,\n",
    "                padding=2\n",
    "            ),\n",
    "            nn.AvgPool2d(2),  # 8,200,300 --> 8,100,150\n",
    "            nn.BatchNorm2d(8),\n",
    "            nn.LeakyReLU(),\n",
    "            nn.Conv2d(\n",
    "                in_channels=8,\n",
    "                out_channels=8,\n",
    "                kernel_size=3,\n",
    "                stride=1,\n",
    "                padding=1\n",
    "            ),\n",
    "            nn.Conv2d(\n",
    "                in_channels=8,\n",
    "                out_channels=1,\n",
    "                kernel_size=3,\n",
    "                stride=1,\n",
    "                padding=1\n",
    "            ),\n",
    "            nn.AvgPool2d(2),  \n",
    "            nn.BatchNorm2d(1),\n",
    "            nn.LeakyReLU()\n",
    "        )\n",
    "        self.line = nn.Sequential(\n",
    "            nn.Linear(\n",
    "                in_features=16,\n",
    "                out_features=self.class_num\n",
    "            ),\n",
    "            nn.Softmax(dim=1)\n",
    "        )\n",
    "\n",
    "    def forward(self, x):\n",
    "        x = self.conv1(x)\n",
    "\n",
    "        x = x.view(-1, 16)\n",
    "        y = self.line(x)\n",
    "        return y"
   ]
  },
  {
   "cell_type": "code",
   "execution_count": null,
   "metadata": {},
   "outputs": [],
   "source": [
    "\n",
    "data_f10=pd.read_csv('实作-1107\\数据\\F10.csv',header=None).dropna()\n",
    "data_f5=pd.read_csv('实作-1107\\数据\\F5.csv',header=None).dropna()\n",
    "data_f15=pd.read_csv('实作-1107\\数据\\F15.csv',header=None).dropna()\n",
    "data_normal=pd.read_csv('实作-1107\\数据\\F15.csv',header=None).dropna()"
   ]
  },
  {
   "cell_type": "code",
   "execution_count": null,
   "metadata": {},
   "outputs": [],
   "source": [
    "data_normal_train=[]\n",
    "for i in range(30):\n",
    "    fre = np.array(data_f5.iloc[:,1])[i*1024:(i+1)*1024]\n",
    "    result = fre.reshape((32, 32))\n",
    "    result =255*(result - np.min(result)) / (np.max(result) - np.min(result))\n",
    "    data_normal_train.append(result)\n",
    "data_normal_train=np.array(data_normal_train).astype(int)\n",
    "for i  in  range (len(data_normal_train)):\n",
    "    plt.imshow(data_normal_train[i],cmap=\"gray\")\n",
    "    plt.show()"
   ]
  },
  {
   "cell_type": "code",
   "execution_count": null,
   "metadata": {},
   "outputs": [],
   "source": [
    "data_f5_train=[]\n",
    "for i in range(30):\n",
    "    fre = np.array(data_f5.iloc[:,1])[i*1024:(i+1)*1024]\n",
    "    result = fre.reshape((32, 32))\n",
    "    result =255*(result - np.min(result)) / (np.max(result) - np.min(result))\n",
    "    data_f5_train.append(result)\n",
    "data_f5_train=np.array(data_f5_train).astype(int)\n",
    "for i  in  range (len(data_f5_train)):\n",
    "    plt.imshow(data_f5_train[i],cmap=\"gray\")\n",
    "    plt.show()\n"
   ]
  },
  {
   "cell_type": "code",
   "execution_count": null,
   "metadata": {},
   "outputs": [],
   "source": [
    "data_f10_train=[]\n",
    "for i in range(30):\n",
    "    fre = np.array(data_f10.iloc[:,1])[i*1024:(i+1)*1024]\n",
    "    result = fre.reshape((32, 32))\n",
    "    result = 255*(result - np.min(result)) / (np.max(result) - np.min(result))\n",
    "    data_f10_train.append(result)\n",
    "data_f10_train=np.array(data_f10_train).astype(int)\n",
    "for i  in  range (len(data_f10_train)):\n",
    "    plt.imshow(data_f10_train[i],cmap=\"gray\")\n",
    "    plt.show()"
   ]
  }
 ],
 "metadata": {
  "kernelspec": {
   "display_name": "Python 3.10.5 64-bit",
   "language": "python",
   "name": "python3"
  },
  "language_info": {
   "name": "python",
   "version": "3.10.5 (tags/v3.10.5:f377153, Jun  6 2022, 16:14:13) [MSC v.1929 64 bit (AMD64)]"
  },
  "orig_nbformat": 4,
  "vscode": {
   "interpreter": {
    "hash": "cb2b3e7d64cabf0753712ba68b736a41f1307dde8fba5ae46fd95c20e54280e6"
   }
  }
 },
 "nbformat": 4,
 "nbformat_minor": 2
}
